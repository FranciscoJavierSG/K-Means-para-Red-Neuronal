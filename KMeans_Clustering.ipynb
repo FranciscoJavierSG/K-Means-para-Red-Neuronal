{
 "cells": [
  {
   "cell_type": "markdown",
   "metadata": {},
   "source": [
    "# Pre-procesamiento de los datos"
   ]
  },
  {
   "cell_type": "markdown",
   "metadata": {},
   "source": [
    "Se importan las librerías a utilizar"
   ]
  },
  {
   "cell_type": "code",
   "execution_count": null,
   "metadata": {},
   "outputs": [],
   "source": [
    "import pandas as pd\n",
    "import numpy as np \n",
    "import glob\n",
    "from matplotlib import pyplot as plt\n",
    "from sklearn.cluster import KMeans\n",
    "from sklearn.preprocessing import MinMaxScaler\n",
    "from sklearn.preprocessing import LabelEncoder"
   ]
  },
  {
   "cell_type": "markdown",
   "metadata": {},
   "source": [
    "Se crea el dataframe"
   ]
  },
  {
   "cell_type": "code",
   "execution_count": null,
   "metadata": {},
   "outputs": [],
   "source": [
    "path = 'base' \n",
    "all_files = glob.glob(path + \"/*.csv\")\n",
    "\n",
    "li = []\n",
    "\n",
    "for filename in all_files:\n",
    "    df = pd.read_csv(filename, index_col=None, sep=';', dtype={'rut': str})\n",
    "    li.append(df)\n",
    "\n",
    "big_df = pd.concat(li, axis=0, ignore_index=True)\n",
    "big_df.head(5)"
   ]
  },
  {
   "cell_type": "markdown",
   "metadata": {},
   "source": [
    "Se eliminan columnas y valores innecesarios"
   ]
  },
  {
   "cell_type": "code",
   "execution_count": null,
   "metadata": {},
   "outputs": [],
   "source": [
    "big_df = big_df.dropna()\n",
    "big_df = big_df.reset_index(drop=True)\n",
    "\n",
    "big_df.drop(big_df[big_df.rut == '25'].index,inplace=True)\n",
    "big_df.drop('visitasOtros_2018',axis=1,inplace=True)\n",
    "big_df.drop('visitasOtros_2019',axis=1,inplace=True)\n",
    "big_df.drop('visitasOtros_2020',axis=1,inplace=True)\n",
    "big_df.drop('visitasOtros_2021',axis=1,inplace=True)\n",
    "\n",
    "big_df.head(5)"
   ]
  },
  {
   "cell_type": "markdown",
   "metadata": {},
   "source": [
    "La columna 'rut' también va a ser eliminada, sin embargo, se va a necesitar luego de usar K-Means, por lo que hay que guardarla antes de eliminarla. "
   ]
  },
  {
   "cell_type": "code",
   "execution_count": null,
   "metadata": {},
   "outputs": [],
   "source": [
    "df_rut = big_df['rut']\n",
    "df_rut = df_rut.to_numpy()\n",
    "\n",
    "big_df.drop('rut',axis=1,inplace=True)\n",
    "big_df.head(5)"
   ]
  },
  {
   "cell_type": "markdown",
   "metadata": {},
   "source": [
    "Ahora, hay que codificar las columnas que tienen datos categóricos. Cabe destacar que cada una de las columnas a codificar tiene su propio codificador para poder guardar en él los datos que tiene cada columna, de manera que se pueda revertir el proceso una vez se haya utilizado K-Means."
   ]
  },
  {
   "cell_type": "code",
   "execution_count": null,
   "metadata": {},
   "outputs": [],
   "source": [
    "le_rangoEdad = LabelEncoder()\n",
    "le_plan = LabelEncoder()\n",
    "le_fidelizacion = LabelEncoder()"
   ]
  },
  {
   "cell_type": "code",
   "execution_count": null,
   "metadata": {},
   "outputs": [],
   "source": [
    "rangoEdad_n = le_rangoEdad.fit_transform(big_df['rangoEdad'])\n",
    "big_df.insert(1, column='rangoEdad_n', value=rangoEdad_n)\n",
    "big_df.drop('rangoEdad',axis=1,inplace=True)\n",
    "\n",
    "plan_n = le_plan.fit_transform(big_df['plan'])\n",
    "big_df.insert(2, column='plan_n', value=plan_n)\n",
    "big_df.drop('plan',axis=1,inplace=True)\n",
    "\n",
    "fidelizacion_n = le_fidelizacion.fit_transform(big_df['fidelizacion'])\n",
    "big_df.insert(3, column='fidelizacion_n', value=fidelizacion_n)\n",
    "big_df.drop('fidelizacion',axis=1,inplace=True)\n",
    "\n",
    "big_df"
   ]
  },
  {
   "cell_type": "markdown",
   "metadata": {},
   "source": [
    "Se escalan los datos"
   ]
  },
  {
   "cell_type": "code",
   "execution_count": null,
   "metadata": {},
   "outputs": [],
   "source": [
    "scaler = MinMaxScaler()\n",
    "scaled_data = scaler.fit_transform(big_df)"
   ]
  },
  {
   "cell_type": "markdown",
   "metadata": {},
   "source": [
    "# Algoritmo K-Means"
   ]
  },
  {
   "cell_type": "markdown",
   "metadata": {},
   "source": [
    "### Análisis del método del codo"
   ]
  },
  {
   "cell_type": "code",
   "execution_count": null,
   "metadata": {},
   "outputs": [],
   "source": [
    "clusters_range = range(1,35)\n",
    "inertia = []\n",
    "\n",
    "for k in clusters_range:\n",
    "    km = KMeans(n_clusters=k)\n",
    "    km.fit(scaled_data)\n",
    "    inertia.append(km.inertia_)"
   ]
  },
  {
   "cell_type": "code",
   "execution_count": null,
   "metadata": {},
   "outputs": [],
   "source": [
    "plt.figure(figsize=(15,7))\n",
    "plt.title('Método del codo')\n",
    "plt.xlabel('Cantidad de clusters')\n",
    "plt.ylabel('Inercia (error)')\n",
    "plt.plot(clusters_range,inertia)\n",
    "plt.xticks(np.arange(min(clusters_range), max(clusters_range)+1, 1.0))\n",
    "plt.grid()\n",
    "plt.show()"
   ]
  },
  {
   "cell_type": "markdown",
   "metadata": {},
   "source": [
    "### K-Means"
   ]
  },
  {
   "cell_type": "code",
   "execution_count": null,
   "metadata": {},
   "outputs": [],
   "source": [
    "km = KMeans(n_clusters=19)\n",
    "y_predicted = km.fit_predict(scaled_data)\n",
    "y_predicted"
   ]
  },
  {
   "cell_type": "markdown",
   "metadata": {},
   "source": [
    "# Post-procesamiento de datos"
   ]
  },
  {
   "cell_type": "markdown",
   "metadata": {},
   "source": [
    "Se invierten los datos escalados para poder verlos naturalmente de nuevo y se agrega la columna \"cluster\", que corresponde a la segmentación creada con K-Means"
   ]
  },
  {
   "cell_type": "code",
   "execution_count": null,
   "metadata": {},
   "outputs": [],
   "source": [
    "big_df['cluster'] = y_predicted"
   ]
  },
  {
   "cell_type": "markdown",
   "metadata": {},
   "source": [
    "Se decodifican las variables con datos categóricos (rangoEdad, plan y fidelización) para poder entenderlas más fácilmente."
   ]
  },
  {
   "cell_type": "code",
   "execution_count": null,
   "metadata": {},
   "outputs": [],
   "source": [
    "inverse_rangoEdad = le_rangoEdad.inverse_transform(big_df['rangoEdad_n'])\n",
    "big_df.insert(1, column='rangoEdad', value=inverse_rangoEdad)\n",
    "big_df.drop('rangoEdad_n',axis=1,inplace=True)\n",
    "\n",
    "inverse_plan = le_plan.inverse_transform(big_df['plan_n'])\n",
    "big_df.insert(2, column='plan', value=inverse_plan)\n",
    "big_df.drop('plan_n',axis=1,inplace=True)\n",
    "\n",
    "inverse_fidelizacion = le_fidelizacion.inverse_transform(big_df['fidelizacion_n'])\n",
    "big_df.insert(3, column='fidelizacion', value=inverse_fidelizacion)\n",
    "big_df.drop('fidelizacion_n',axis=1,inplace=True)"
   ]
  },
  {
   "cell_type": "markdown",
   "metadata": {},
   "source": [
    "Finalmente, se agrega nuevamente la columna rut."
   ]
  },
  {
   "cell_type": "code",
   "execution_count": null,
   "metadata": {},
   "outputs": [],
   "source": [
    "big_df.insert(0, column='rut',value=df_rut)\n",
    "big_df"
   ]
  },
  {
   "cell_type": "code",
   "execution_count": null,
   "metadata": {},
   "outputs": [],
   "source": [
    "big_df.to_csv('datos_clusterizados.csv', index=False)"
   ]
  }
 ],
 "metadata": {
  "kernelspec": {
   "display_name": "Python 3",
   "language": "python",
   "name": "python3"
  },
  "language_info": {
   "codemirror_mode": {
    "name": "ipython",
    "version": 3
   },
   "file_extension": ".py",
   "mimetype": "text/x-python",
   "name": "python",
   "nbconvert_exporter": "python",
   "pygments_lexer": "ipython3",
   "version": "3.11.5"
  },
  "orig_nbformat": 4
 },
 "nbformat": 4,
 "nbformat_minor": 2
}
